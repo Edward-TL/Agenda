{
  "nbformat": 4,
  "nbformat_minor": 0,
  "metadata": {
    "colab": {
      "name": "scrp_unifier.ipynb",
      "provenance": [],
      "collapsed_sections": [],
      "history_visible": true,
      "authorship_tag": "ABX9TyO5yQFzlqsyiloJkpWmA3ff",
      "include_colab_link": true
    },
    "kernelspec": {
      "name": "python3",
      "display_name": "Python 3"
    }
  },
  "cells": [
    {
      "cell_type": "markdown",
      "metadata": {
        "id": "view-in-github",
        "colab_type": "text"
      },
      "source": [
        "<a href=\"https://colab.research.google.com/github/Edward-TL/Agenda/blob/master/scrp_unifier.ipynb\" target=\"_parent\"><img src=\"https://colab.research.google.com/assets/colab-badge.svg\" alt=\"Open In Colab\"/></a>"
      ]
    },
    {
      "cell_type": "markdown",
      "metadata": {
        "id": "VETqPMp7eh6e",
        "colab_type": "text"
      },
      "source": [
        "<ol>\n",
        "<li>**CHECKED** Obtener nombres de las categorias a las que pertenecen los archivos</li>\n",
        "<li>**CHECKED** Enviarlas a las carpetas a las que pertenecen con las fechas agregadas</li>\n",
        "<li>verificar que todos los archivos tengan la columna de las fechas</li>\n",
        "<li>Se crea una base maestra a partir de los registros más viejos</li>\n",
        "\n",
        "<li>crear el ID concatenando ranking y url</li>\n",
        "<li>si los 50 estan intactactos:</li>\n",
        "        no se consideran\n",
        "<li>si existe un cambio de posición</li>\n",
        "        se agrega a la base maestra.\n",
        "</ol>"
      ]
    },
    {
      "cell_type": "code",
      "metadata": {
        "id": "9t5CIDTcSVz6",
        "colab_type": "code",
        "colab": {
          "base_uri": "https://localhost:8080/",
          "height": 122
        },
        "outputId": "98a619b7-9e33-480d-defd-8281419b3fd9"
      },
      "source": [
        "from google.colab import drive\n",
        "drive.mount('/content/drive')\n"
      ],
      "execution_count": 1,
      "outputs": [
        {
          "output_type": "stream",
          "text": [
            "Go to this URL in a browser: https://accounts.google.com/o/oauth2/auth?client_id=947318989803-6bn6qk8qdgf4n4g3pfee6491hc0brc4i.apps.googleusercontent.com&redirect_uri=urn%3aietf%3awg%3aoauth%3a2.0%3aoob&response_type=code&scope=email%20https%3a%2f%2fwww.googleapis.com%2fauth%2fdocs.test%20https%3a%2f%2fwww.googleapis.com%2fauth%2fdrive%20https%3a%2f%2fwww.googleapis.com%2fauth%2fdrive.photos.readonly%20https%3a%2f%2fwww.googleapis.com%2fauth%2fpeopleapi.readonly\n",
            "\n",
            "Enter your authorization code:\n",
            "··········\n",
            "Mounted at /content/drive\n"
          ],
          "name": "stdout"
        }
      ]
    },
    {
      "cell_type": "code",
      "metadata": {
        "id": "k3ThUSbRWCAx",
        "colab_type": "code",
        "colab": {}
      },
      "source": [
        "#For the system\n",
        "import os\n",
        "\n",
        "#Manage of time\n",
        "from datetime import datetime\n",
        "import time\n",
        "\n",
        "#Manage of files\n",
        "import pandas as pd\n",
        "import csv"
      ],
      "execution_count": 2,
      "outputs": []
    },
    {
      "cell_type": "code",
      "metadata": {
        "id": "o955ldYMZDJj",
        "colab_type": "code",
        "colab": {
          "base_uri": "https://localhost:8080/",
          "height": 51
        },
        "outputId": "19416263-5d63-4b62-9daf-15aef43eaa0b"
      },
      "source": [
        "%cd 'drive/My Drive/Colab Notebooks/4SS/4SS_db/testing'\n",
        "!ls"
      ],
      "execution_count": 3,
      "outputs": [
        {
          "output_type": "stream",
          "text": [
            "/content/drive/My Drive/Colab Notebooks/4SS/4SS_db/testing\n",
            "br  logs  mx\n"
          ],
          "name": "stdout"
        }
      ]
    },
    {
      "cell_type": "code",
      "metadata": {
        "id": "AkIiW-90Zjmc",
        "colab_type": "code",
        "colab": {}
      },
      "source": [
        "# entries_mx = os.listdir('mx')\n",
        "# print(entries_mx)\n",
        "# entries_br = os.listdir('br')\n",
        "# print(entries_br)"
      ],
      "execution_count": 4,
      "outputs": []
    },
    {
      "cell_type": "code",
      "metadata": {
        "id": "G1UHMpplroiA",
        "colab_type": "code",
        "colab": {}
      },
      "source": [
        "def rename_folders_files(str_dir, change_this, to_this):\n",
        "    str_dir = str_dir + '/'\n",
        "    for entry in str_dir:\n",
        "        original_file = str_dir + entry\n",
        "\n",
        "        entry_edited = entry.replace(change_this, to_this)\n",
        "        edited_name = str_dir + entry_edited\n",
        "        \n",
        "        os.rename(original_file, edited_name)"
      ],
      "execution_count": 5,
      "outputs": []
    },
    {
      "cell_type": "code",
      "metadata": {
        "id": "hvkYlDjR8Lrh",
        "colab_type": "code",
        "colab": {
          "base_uri": "https://localhost:8080/",
          "height": 34
        },
        "outputId": "c46dca0d-19fa-41cb-b0fb-69ac30680704"
      },
      "source": [
        "date = datetime.now()\n",
        "date"
      ],
      "execution_count": 6,
      "outputs": [
        {
          "output_type": "execute_result",
          "data": {
            "text/plain": [
              "datetime.datetime(2020, 8, 5, 18, 1, 12, 210947)"
            ]
          },
          "metadata": {
            "tags": []
          },
          "execution_count": 6
        }
      ]
    },
    {
      "cell_type": "code",
      "metadata": {
        "id": "SblG0OnL__Un",
        "colab_type": "code",
        "colab": {}
      },
      "source": [
        "def centered_len(max_len):\n",
        "    def centered_string(string):\n",
        "        if type(string) != 'string':\n",
        "            string = str(string)\n",
        "            \n",
        "        rest = max_len - len(string)\n",
        "        n_spaces = int(rest/2)\n",
        "\n",
        "        string_spaces = ' ' * n_spaces\n",
        "        \n",
        "        centered_string = string_spaces + string + string_spaces\n",
        "\n",
        "        if len(centered_string)<max_len:\n",
        "            centered_string = ' ' + centered_string\n",
        "\n",
        "        return centered_string\n",
        "    return centered_string"
      ],
      "execution_count": 18,
      "outputs": []
    },
    {
      "cell_type": "code",
      "metadata": {
        "id": "x_PgW4uq1_Yp",
        "colab_type": "code",
        "colab": {
          "base_uri": "https://localhost:8080/",
          "height": 52
        },
        "outputId": "7927fb3a-b18f-4cd0-8ff1-f59305e66f6d"
      },
      "source": [
        "centered_missing = centered_len(len('musical-instruments'))\n",
        "print('musical-instruments')\n",
        "centered_missing('category')\n"
      ],
      "execution_count": 27,
      "outputs": [
        {
          "output_type": "stream",
          "text": [
            "musical-instruments\n"
          ],
          "name": "stdout"
        },
        {
          "output_type": "execute_result",
          "data": {
            "application/vnd.google.colaboratory.intrinsic+json": {
              "type": "string"
            },
            "text/plain": [
              "'      category     '"
            ]
          },
          "metadata": {
            "tags": []
          },
          "execution_count": 27
        }
      ]
    },
    {
      "cell_type": "code",
      "metadata": {
        "id": "FrXNWaBiZwQu",
        "colab_type": "code",
        "colab": {}
      },
      "source": [
        "def add_date(entry):\n",
        "    '''Bbtain date and made it a Pandas Series'''\n",
        "    date_file = entry[-20:]\n",
        "    str_date = date_file[:16]\n",
        "    date = datetime.strptime(str_date,'%Y-%m-%d %H_%M')\n",
        "    date_array = [date]*50\n",
        "    date_series = pd.Series(date_array, name='time')\n",
        "\n",
        "    category = entry[8:(len(entry)-21)]\n",
        "\n",
        "    '''Concat the Date Serie to the main dataframe'''\n",
        "    main_df = pd.read_csv(entry, sep='|')\n",
        "    new_df = pd.concat([date_series, main_df], axis=1)\n",
        "    new_df.to_csv(entry, sep='|', index= False)\n",
        "    new_df\n",
        "\n",
        "    file_name_len = (len(entry)-3)\n",
        "    file_name = entry[:file_name_len]\n",
        "    excel_name = file_name + 'xlsx'\n",
        "    new_df.to_excel(excel_name, index= False)"
      ],
      "execution_count": 7,
      "outputs": []
    },
    {
      "cell_type": "code",
      "metadata": {
        "id": "icTSdbrc_shZ",
        "colab_type": "code",
        "colab": {}
      },
      "source": [
        "countries= ['mx','br']"
      ],
      "execution_count": 8,
      "outputs": []
    },
    {
      "cell_type": "code",
      "metadata": {
        "id": "FhY_6bflISNm",
        "colab_type": "code",
        "colab": {
          "base_uri": "https://localhost:8080/",
          "height": 34
        },
        "outputId": "6daf9956-ed67-4b95-dadb-222eaa1e3398"
      },
      "source": [
        "!ls"
      ],
      "execution_count": 9,
      "outputs": [
        {
          "output_type": "stream",
          "text": [
            "br  logs  mx\n"
          ],
          "name": "stdout"
        }
      ]
    },
    {
      "cell_type": "code",
      "metadata": {
        "id": "LyIAjsDoeuRK",
        "colab_type": "code",
        "colab": {
          "base_uri": "https://localhost:8080/",
          "height": 1000
        },
        "outputId": "419e3dd2-bcca-4f35-ce7c-f3e148170f73"
      },
      "source": [
        "#por pais en paises\n",
        "initial_time = datetime.now()\n",
        "print(initial_time)\n",
        "\n",
        "\n",
        "country_counter = 0\n",
        "print(' Missing date/time | With date/time | csv_files | country |       Category     ')\n",
        "\n",
        "centered_missing = centered_len(len('Missing date/time'))\n",
        "centered_with = centered_len(len('With date/time'))\n",
        "centered_csv = centered_len(len('csv_files'))\n",
        "centered_country = centered_len(len('country'))\n",
        "#largest category name: musical-instruments\n",
        "centered_category = centered_len(len('musical-instruments'))\n",
        "\n",
        "total_csv_files = 0\n",
        "total_dirs = 0\n",
        "total_missing = 0\n",
        "\n",
        "for country in countries:\n",
        "    country_entries = os.listdir(country)\n",
        "    if country_counter > 0:\n",
        "        print(' ----------------- | -------------- | --------- | ------- | -------------------')\n",
        "    #por carpeta en paises\n",
        "    for entry in country_entries:\n",
        "        try:\n",
        "            total_dirs = total_dirs + 1\n",
        "            #Archivos en carpetas\n",
        "            folder_files = os.listdir(country + '/' + entry)\n",
        "            if folder_files[:2] != country:\n",
        "                csv_counter = 0\n",
        "                with_dt = 0\n",
        "                missing_dt = 0        \n",
        "\n",
        "                for file_content in folder_files:\n",
        "                    total_dirs = total_dirs + 1    \n",
        "                    #Archivo csv\n",
        "                    if file_content[-3:] == 'csv':\n",
        "                        csv_counter = csv_counter + 1\n",
        "                        complete_file = country + '/' + entry + '/' + file_content\n",
        "\n",
        "                        with open(complete_file, mode=\"r\", encoding='utf-8') as csv_file:\n",
        "                            csv_reader = csv.reader(csv_file, delimiter='|')\n",
        "                            header = next(csv_reader)\n",
        "                            if header[0] == 'time' or header[0] == 'Date':\n",
        "                                with_dt = with_dt + 1\n",
        "                            else:\n",
        "                                missing_dt = missing_dt + 1\n",
        "                                total_missing = total_missing + 1\n",
        "                        csv_file.close()\n",
        "                \n",
        "                print(f' {centered_missing(missing_dt)}', end=' | ')\n",
        "                print(centered_with(with_dt), end=' | ')\n",
        "                print(centered_csv(csv_counter), end=' | ')\n",
        "                print(centered_country(country), end=' | ')\n",
        "                print(centered_category(entry))\n",
        "                total_csv_files = total_csv_files + csv_counter\n",
        "                \n",
        "        except:\n",
        "            total_dirs = total_dirs + 1\n",
        "            pass\n",
        "\n",
        "    country_counter = country_counter+1\n",
        "\n",
        "final_time = datetime.now()\n",
        "time_elapsed = final_time - initial_time\n",
        "print(f'\\nPasaron {time_elapsed.total_seconds()} segundos')\n",
        "print(final_time)\n",
        "\n",
        "print(f'\\nNeeds to check: {total_missing}')\n",
        "print(f'Total of csv files = {total_csv_files}')\n",
        "print(f'Total dirs: {total_dirs}')\n"
      ],
      "execution_count": 65,
      "outputs": [
        {
          "output_type": "stream",
          "text": [
            "2020-08-05 19:56:14.497385\n",
            " Missing date/time | With date/time | csv_files | country |       Category     \n",
            "         18        |       47       |     65    |    mx   |       grocery      \n",
            "         17        |       46       |     63    |    mx   |      automotive    \n",
            "         16        |       42       |     58    |    mx   |    amazon-devices  \n",
            "         17        |       45       |     62    |    mx   |         baby       \n",
            "         17        |       40       |     57    |    mx   |     electronics    \n",
            "         16        |       40       |     56    |    mx   |        tools       \n",
            "         16        |       40       |     56    |    mx   |       kitchen      \n",
            "         16        |       39       |     55    |    mx   |      industrial    \n",
            "         16        |       39       |     55    |    mx   | musical-instruments\n",
            "         16        |       39       |     55    |    mx   |         toys       \n",
            "         16        |       38       |     54    |    mx   |        books       \n",
            "         16        |       38       |     54    |    mx   |        music       \n",
            "         16        |       38       |     54    |    mx   |    officeproduct   \n",
            "         16        |       38       |     54    |    mx   |         dvd        \n",
            "         16        |       38       |     54    |    mx   |       handmade     \n",
            "         16        |       38       |     54    |    mx   |     pet-supplies   \n",
            "         16        |       38       |     54    |    mx   |        shoes       \n",
            "         16        |       38       |     54    |    mx   |         hpc        \n",
            "         16        |       37       |     53    |    mx   |       software     \n",
            "         16        |       37       |     53    |    mx   |     digital-text   \n",
            "         16        |       37       |     53    |    mx   |      videogames    \n",
            " ----------------- | -------------- | --------- | ------- | -------------------\n",
            "         16        |        0       |     16    |    br   |       grocery      \n",
            "         16        |        0       |     16    |    br   |      automotive    \n",
            "         16        |       37       |     53    |    br   |    amazon-devices  \n",
            "         16        |        0       |     16    |    br   |         baby       \n",
            "         16        |       36       |     52    |    br   |        sports      \n",
            "         16        |       36       |     52    |    br   |     electronics    \n",
            "         16        |        0       |     16    |    br   |        tools       \n",
            "         16        |       35       |     51    |    br   |       kitchen      \n",
            "         16        |        0       |     16    |    br   |      industrial    \n",
            "         16        |        0       |     16    |    br   | musical-instruments\n",
            "         16        |       35       |     51    |    br   |         toys       \n",
            "         16        |       35       |     51    |    br   |        books       \n",
            "         16        |       35       |     51    |    br   |        music       \n",
            "         16        |        0       |     16    |    br   |    officeproduct   \n",
            "         16        |       34       |     50    |    br   |         dvd        \n",
            "         16        |        0       |     16    |    br   |       handmade     \n",
            "         16        |        0       |     16    |    br   |     pet-supplies   \n",
            "         16        |        0       |     16    |    br   |        shoes       \n",
            "         16        |       32       |     48    |    br   |         hpc        \n",
            "         16        |        0       |     16    |    br   |       software     \n",
            "         16        |       32       |     48    |    br   |     digital-text   \n",
            "         16        |       32       |     48    |    br   |      videogames    \n",
            "         0         |       36       |     36    |    br   |    baby-products   \n",
            "         0         |       35       |     35    |    br   |          hi        \n",
            "         0         |       32       |     32    |    br   |       fashion      \n",
            "         0         |       31       |     31    |    br   |     mobile-apps    \n",
            "         0         |       32       |     32    |    br   |        office      \n",
            "         0         |       31       |     31    |    br   |      computers     \n",
            "         0         |       31       |     31    |    br   |     pet-products   \n",
            "         0         |       30       |     30    |    br   |        beauty      \n",
            "         0         |       30       |     30    |    br   |         home       \n",
            "         0         |       30       |     30    |    br   |      appliances    \n",
            "         0         |       30       |     30    |    br   |   lawn-and-garden  \n",
            "         0         |       30       |     30    |    br   |      furniture     \n",
            "\n",
            "Pasaron 1.965609 segundos\n",
            "2020-08-05 19:56:16.462994\n",
            "\n",
            "Needs to check: 710\n",
            "Total of csv files = 2282\n",
            "Total dirs: 4862\n"
          ],
          "name": "stdout"
        }
      ]
    },
    {
      "cell_type": "code",
      "metadata": {
        "id": "OWv5yYATM04q",
        "colab_type": "code",
        "colab": {}
      },
      "source": [
        "#por pais en paises\n",
        "initial_time = datetime.now()\n",
        "print(initial_time)\n",
        "\n",
        "\n",
        "country_counter = 0\n",
        "print(' Missing date/time | With date/time | csv_files | country |       Category     ')\n",
        "\n",
        "centered_missing = centered_len(len('Missing date/time'))\n",
        "centered_with = centered_len(len('With date/time'))\n",
        "centered_csv = centered_len(len('csv_files'))\n",
        "centered_country = centered_len(len('country'))\n",
        "#largest category name: musical-instruments\n",
        "centered_category = centered_len(len('musical-instruments'))\n",
        "\n",
        "total_csv_files = 0\n",
        "total_dirs = 0\n",
        "total_missing = 0\n",
        "\n",
        "for country in countries:\n",
        "    country_entries = os.listdir(country)\n",
        "    if country_counter > 0:\n",
        "        print(' ----------------- | -------------- | --------- | ------- | -------------------')\n",
        "    #por carpeta en paises\n",
        "    for entry in country_entries:\n",
        "        try:\n",
        "            total_dirs = total_dirs + 1\n",
        "            #Archivos en carpetas\n",
        "            folder_files = os.listdir(country + '/' + entry)\n",
        "            if folder_files[:2] != country:\n",
        "                csv_counter = 0\n",
        "                with_dt = 0\n",
        "                missing_dt = 0        \n",
        "\n",
        "                for file_content in folder_files:\n",
        "                    total_dirs = total_dirs + 1    \n",
        "                    #Archivo csv\n",
        "                    if file_content[-3:] == 'csv':\n",
        "                        csv_counter = csv_counter + 1\n",
        "                        complete_file = country + '/' + entry + '/' + file_content\n",
        "\n",
        "                        with open(complete_file, mode=\"r\", encoding='utf-8') as csv_file:\n",
        "                            csv_reader = csv.reader(csv_file, delimiter='|')\n",
        "                            header = next(csv_reader)\n",
        "                            if header[0] == 'time' or header[0] == 'Date':\n",
        "                                with_dt = with_dt + 1\n",
        "                                add_date(complete_file)\n",
        "                            else:\n",
        "                                missing_dt = missing_dt + 1\n",
        "                                total_missing = total_missing + 1\n",
        "                        csv_file.close()\n",
        "                \n",
        "                print(f' {centered_missing(missing_dt)}', end=' | ')\n",
        "                print(centered_with(with_dt), end=' | ')\n",
        "                print(centered_csv(csv_counter), end=' | ')\n",
        "                print(centered_country(country), end=' | ')\n",
        "                print(centered_category(entry))\n",
        "                total_csv_files = total_csv_files + csv_counter\n",
        "                \n",
        "        except:\n",
        "            total_dirs = total_dirs + 1\n",
        "            pass\n",
        "\n",
        "    country_counter = country_counter+1\n",
        "\n",
        "final_time = datetime.now()\n",
        "time_elapsed = final_time - initial_time\n",
        "print(f'\\nPasaron {time_elapsed.total_seconds()} segundos')\n",
        "print(final_time)\n",
        "\n",
        "print(f'\\nNeeds to check: {total_missing}')\n",
        "print(f'Total of csv files = {total_csv_files}')\n",
        "print(f'Total dirs: {total_dirs}')\n"
      ],
      "execution_count": null,
      "outputs": []
    }
  ]
}